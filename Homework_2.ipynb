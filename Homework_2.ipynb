{
  "nbformat": 4,
  "nbformat_minor": 0,
  "metadata": {
    "colab": {
      "provenance": [],
      "authorship_tag": "ABX9TyNdd6mQM4bitUSeYIVbFqav",
      "include_colab_link": true
    },
    "kernelspec": {
      "name": "python3",
      "display_name": "Python 3"
    },
    "language_info": {
      "name": "python"
    }
  },
  "cells": [
    {
      "cell_type": "markdown",
      "metadata": {
        "id": "view-in-github",
        "colab_type": "text"
      },
      "source": [
        "<a href=\"https://colab.research.google.com/github/JesusN8/CSC226/blob/main/Homework_2.ipynb\" target=\"_parent\"><img src=\"https://colab.research.google.com/assets/colab-badge.svg\" alt=\"Open In Colab\"/></a>"
      ]
    },
    {
      "cell_type": "code",
      "execution_count": 2,
      "metadata": {
        "id": "CdcqChofEgit"
      },
      "outputs": [],
      "source": [
        "import json\n",
        "\n",
        "jsonStr={\"name\": \"Alice\", \"email\": \"alice@example.com\"}\n",
        "\n",
        "jsonObj=jsonStr\n",
        "\n",
        "jsonObj[\"name\"]=\"Jesus\"\n",
        "\n",
        "with open(\"updated_data.json\", \"w\") as file:\n",
        "    json.dump(jsonObj, file)"
      ]
    }
  ]
}